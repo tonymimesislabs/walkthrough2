{
 "cells": [
  {
   "cell_type": "markdown",
   "id": "291caf00-468f-4c32-91ce-66bf748be53d",
   "metadata": {},
   "source": [
    "## Walkthrough sample notebook"
   ]
  },
  {
   "cell_type": "markdown",
   "id": "3a7ca27c-014e-4bc7-abce-8d5545895c5f",
   "metadata": {},
   "source": [
    "Here is how i calculate `1+1`"
   ]
  },
  {
   "cell_type": "code",
   "execution_count": 1,
   "id": "4e28bf87-b5c3-478e-9ea8-55a4dbc17901",
   "metadata": {},
   "outputs": [
    {
     "data": {
      "text/plain": [
       "2"
      ]
     },
     "execution_count": 1,
     "metadata": {},
     "output_type": "execute_result"
    }
   ],
   "source": [
    "1+1"
   ]
  },
  {
   "cell_type": "code",
   "execution_count": 2,
   "id": "645c7493-76dd-4aa3-8cad-d66749f45cb1",
   "metadata": {},
   "outputs": [],
   "source": [
    "from numpy import *"
   ]
  },
  {
   "cell_type": "markdown",
   "id": "e08a7144-f222-4a0f-b329-9e69b31d3055",
   "metadata": {},
   "source": [
    "Here is how I calculate `sin`"
   ]
  },
  {
   "cell_type": "code",
   "execution_count": null,
   "id": "5adb2498-94ce-4a2d-9dcd-7c24f21e2ed4",
   "metadata": {},
   "outputs": [],
   "source": [
    "a = array("
   ]
  }
 ],
 "metadata": {
  "kernelspec": {
   "display_name": "Python 3 (ipykernel)",
   "language": "python",
   "name": "python3"
  },
  "language_info": {
   "codemirror_mode": {
    "name": "ipython",
    "version": 3
   },
   "file_extension": ".py",
   "mimetype": "text/x-python",
   "name": "python",
   "nbconvert_exporter": "python",
   "pygments_lexer": "ipython3",
   "version": "3.12.8"
  }
 },
 "nbformat": 4,
 "nbformat_minor": 5
}
